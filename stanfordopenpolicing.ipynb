{
  "nbformat": 4,
  "nbformat_minor": 0,
  "metadata": {
    "colab": {
      "name": "stanfordopenpolicing.ipynb",
      "provenance": [],
      "authorship_tag": "ABX9TyO8n9d6vEUuTW33smbzd01q",
      "include_colab_link": true
    },
    "kernelspec": {
      "name": "python3",
      "display_name": "Python 3"
    },
    "language_info": {
      "name": "python"
    }
  },
  "cells": [
    {
      "cell_type": "markdown",
      "metadata": {
        "id": "view-in-github",
        "colab_type": "text"
      },
      "source": [
        "<a href=\"https://colab.research.google.com/github/imanushkav221/stanfordopenpolicing/blob/main/stanfordopenpolicing.ipynb\" target=\"_parent\"><img src=\"https://colab.research.google.com/assets/colab-badge.svg\" alt=\"Open In Colab\"/></a>"
      ]
    },
    {
      "cell_type": "markdown",
      "metadata": {
        "id": "Is_7ExarMXoe"
      },
      "source": [
        "# **Stanford Open Policing Project**\n",
        "1) Exploring the relationship between gender and policing\n",
        "2) Analyzing the effect of weather on policing\n",
        "3) Visual exploratory data analysis to see the effect of time of day."
      ]
    },
    {
      "cell_type": "markdown",
      "metadata": {
        "id": "lSYeCEG-QCln"
      },
      "source": [
        "Examining the data"
      ]
    },
    {
      "cell_type": "code",
      "metadata": {
        "colab": {
          "base_uri": "https://localhost:8080/",
          "height": 213
        },
        "id": "cPny0OdHNGWl",
        "outputId": "9306c658-63ff-434e-8389-f55646178873"
      },
      "source": [
        "import pandas as pd\n",
        "url = 'https://raw.githubusercontent.com/imanushkav221/stanfordopenpolicing/main/ar_little_rock_2020_04_01.csv'\n",
        "ri = pd.read_csv(url)\n",
        "ri.head(3)"
      ],
      "execution_count": null,
      "outputs": [
        {
          "output_type": "execute_result",
          "data": {
            "text/html": [
              "<div>\n",
              "<style scoped>\n",
              "    .dataframe tbody tr th:only-of-type {\n",
              "        vertical-align: middle;\n",
              "    }\n",
              "\n",
              "    .dataframe tbody tr th {\n",
              "        vertical-align: top;\n",
              "    }\n",
              "\n",
              "    .dataframe thead th {\n",
              "        text-align: right;\n",
              "    }\n",
              "</style>\n",
              "<table border=\"1\" class=\"dataframe\">\n",
              "  <thead>\n",
              "    <tr style=\"text-align: right;\">\n",
              "      <th></th>\n",
              "      <th>raw_row_number</th>\n",
              "      <th>date</th>\n",
              "      <th>time</th>\n",
              "      <th>lat</th>\n",
              "      <th>lng</th>\n",
              "      <th>subject_age</th>\n",
              "      <th>subject_race</th>\n",
              "      <th>subject_sex</th>\n",
              "      <th>type</th>\n",
              "      <th>citation_issued</th>\n",
              "      <th>outcome</th>\n",
              "      <th>vehicle_type</th>\n",
              "      <th>raw_defendant_race</th>\n",
              "    </tr>\n",
              "  </thead>\n",
              "  <tbody>\n",
              "    <tr>\n",
              "      <th>0</th>\n",
              "      <td>8620|12751</td>\n",
              "      <td>2017-01-01</td>\n",
              "      <td>01:50:15</td>\n",
              "      <td>NaN</td>\n",
              "      <td>NaN</td>\n",
              "      <td>55.0</td>\n",
              "      <td>white</td>\n",
              "      <td>male</td>\n",
              "      <td>vehicular</td>\n",
              "      <td>True</td>\n",
              "      <td>citation</td>\n",
              "      <td>Other</td>\n",
              "      <td>CAUCASIAN</td>\n",
              "    </tr>\n",
              "    <tr>\n",
              "      <th>1</th>\n",
              "      <td>5296|10153|13440|14777</td>\n",
              "      <td>2017-01-01</td>\n",
              "      <td>05:24:24</td>\n",
              "      <td>NaN</td>\n",
              "      <td>NaN</td>\n",
              "      <td>52.0</td>\n",
              "      <td>black</td>\n",
              "      <td>female</td>\n",
              "      <td>vehicular</td>\n",
              "      <td>True</td>\n",
              "      <td>citation</td>\n",
              "      <td>Passenger Car</td>\n",
              "      <td>AFRICAN AMERICAN</td>\n",
              "    </tr>\n",
              "    <tr>\n",
              "      <th>2</th>\n",
              "      <td>16622</td>\n",
              "      <td>2017-01-01</td>\n",
              "      <td>05:56:20</td>\n",
              "      <td>NaN</td>\n",
              "      <td>NaN</td>\n",
              "      <td>35.0</td>\n",
              "      <td>black</td>\n",
              "      <td>male</td>\n",
              "      <td>vehicular</td>\n",
              "      <td>True</td>\n",
              "      <td>citation</td>\n",
              "      <td>Passenger Car</td>\n",
              "      <td>AFRICAN AMERICAN</td>\n",
              "    </tr>\n",
              "  </tbody>\n",
              "</table>\n",
              "</div>"
            ],
            "text/plain": [
              "           raw_row_number        date  ...   vehicle_type  raw_defendant_race\n",
              "0              8620|12751  2017-01-01  ...          Other           CAUCASIAN\n",
              "1  5296|10153|13440|14777  2017-01-01  ...  Passenger Car    AFRICAN AMERICAN\n",
              "2                   16622  2017-01-01  ...  Passenger Car    AFRICAN AMERICAN\n",
              "\n",
              "[3 rows x 13 columns]"
            ]
          },
          "metadata": {
            "tags": []
          },
          "execution_count": 15
        }
      ]
    },
    {
      "cell_type": "markdown",
      "metadata": {
        "id": "97AQzMQDQaws"
      },
      "source": [
        "Locating missing values"
      ]
    },
    {
      "cell_type": "code",
      "metadata": {
        "id": "rTWdMdfCQ_zE"
      },
      "source": [
        "ri.isnull()\n",
        "ri.isnull().sum()"
      ],
      "execution_count": null,
      "outputs": []
    },
    {
      "cell_type": "markdown",
      "metadata": {
        "id": "VbQokfEqS-qx"
      },
      "source": [
        "Dropping Columns"
      ]
    },
    {
      "cell_type": "code",
      "metadata": {
        "id": "S3yPJsnWSbOR"
      },
      "source": [
        "ri.drop('lat',   axis='columns', inplace=True)\n",
        "ri.drop('lng',   axis='columns', inplace=True)\n"
      ],
      "execution_count": null,
      "outputs": []
    },
    {
      "cell_type": "markdown",
      "metadata": {
        "id": "8BOBd2XITRRz"
      },
      "source": [
        "Examining Data Types"
      ]
    },
    {
      "cell_type": "code",
      "metadata": {
        "id": "PD7YGd0CTXCs"
      },
      "source": [
        "ri.dtypes"
      ],
      "execution_count": null,
      "outputs": []
    },
    {
      "cell_type": "markdown",
      "metadata": {
        "id": "HEVOE9iAUg2l"
      },
      "source": [
        "Converting to Date and Time Format"
      ]
    },
    {
      "cell_type": "code",
      "metadata": {
        "id": "_yrNIAcxUsdv"
      },
      "source": [
        "ri.date.str.replace('/', '-')\n",
        "combined =  ri.date.str.cat(ri.time, sep=' ')\n",
        "ri['date_and_time'] = pd.to_datetime(combined)\n",
        "ri.dtypes"
      ],
      "execution_count": null,
      "outputs": []
    },
    {
      "cell_type": "markdown",
      "metadata": {
        "id": "iE5XKk6EVYnr"
      },
      "source": [
        "Setting the Index"
      ]
    },
    {
      "cell_type": "code",
      "metadata": {
        "id": "20fpCS5qVfSV"
      },
      "source": [
        "ri.set_index('date_and_time', inplace=True)\n",
        "ri.index"
      ],
      "execution_count": null,
      "outputs": []
    },
    {
      "cell_type": "markdown",
      "metadata": {
        "id": "_TNX1u4OWIHW"
      },
      "source": [
        "## Do the genders commit different violations?"
      ]
    },
    {
      "cell_type": "markdown",
      "metadata": {
        "id": "_z9htigUWRSU"
      },
      "source": [
        "Counting unique values"
      ]
    },
    {
      "cell_type": "code",
      "metadata": {
        "id": "r1w33Eu9WXLy"
      },
      "source": [
        "ri.value_counts()\n",
        "ri.value_counts().sum()"
      ],
      "execution_count": null,
      "outputs": []
    },
    {
      "cell_type": "markdown",
      "metadata": {
        "id": "Tr3BKYAEZCWi"
      },
      "source": [
        "Expressing counts as proportions"
      ]
    },
    {
      "cell_type": "code",
      "metadata": {
        "id": "QAHCuEbKZJbW"
      },
      "source": [
        "ri.value_counts(normalize=True)"
      ],
      "execution_count": null,
      "outputs": []
    },
    {
      "cell_type": "markdown",
      "metadata": {
        "id": "w3jOORsKZVVn"
      },
      "source": [
        "Filtering DataFrame Rows"
      ]
    },
    {
      "cell_type": "code",
      "metadata": {
        "colab": {
          "base_uri": "https://localhost:8080/"
        },
        "id": "nFEZ3qcSZZ--",
        "outputId": "2a3113d4-203c-4a41-9a7f-265bf6c9582e"
      },
      "source": [
        "female = ri[ri.subject_sex == 'female']\n",
        "female.shape"
      ],
      "execution_count": null,
      "outputs": [
        {
          "output_type": "execute_result",
          "data": {
            "text/plain": [
              "(6229, 11)"
            ]
          },
          "metadata": {
            "tags": []
          },
          "execution_count": 26
        }
      ]
    }
  ]
}